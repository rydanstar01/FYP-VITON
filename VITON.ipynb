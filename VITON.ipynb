{
  "cells": [
    {
      "cell_type": "markdown",
      "metadata": {
        "id": "jPGIKIyRxYzX"
      },
      "source": [
        "# **Connecting Drive**"
      ]
    },
    {
      "cell_type": "code",
      "execution_count": null,
      "metadata": {
        "id": "62E8ZC1Femsd"
      },
      "outputs": [],
      "source": [
        "from google.colab import drive"
      ]
    },
    {
      "cell_type": "code",
      "source": [
        "drive.mount('/content/drive/')"
      ],
      "metadata": {
        "colab": {
          "base_uri": "https://localhost:8080/"
        },
        "id": "UGsn61vzbnw0",
        "outputId": "498d7e55-8c78-4a24-a008-e1169b7c45e7"
      },
      "execution_count": null,
      "outputs": [
        {
          "output_type": "stream",
          "name": "stdout",
          "text": [
            "Mounted at /content/drive/\n"
          ]
        }
      ]
    },
    {
      "cell_type": "code",
      "execution_count": null,
      "metadata": {
        "colab": {
          "base_uri": "https://localhost:8080/"
        },
        "id": "k84vFtVhvHZi",
        "outputId": "3ba87c2f-fef3-4a22-8dc9-3d9b9ae47d3d"
      },
      "outputs": [
        {
          "output_type": "stream",
          "name": "stdout",
          "text": [
            "/content/drive/MyDrive/Major_Project/ACGPN\n"
          ]
        }
      ],
      "source": [
        "%cd /content/drive/MyDrive/Major_Project/ACGPN"
      ]
    },
    {
      "cell_type": "markdown",
      "metadata": {
        "id": "bBXUXayiwpIf"
      },
      "source": [
        "# **Setting up modules**"
      ]
    },
    {
      "cell_type": "code",
      "execution_count": null,
      "metadata": {
        "colab": {
          "base_uri": "https://localhost:8080/"
        },
        "id": "_M1aCX5uF8b2",
        "outputId": "997f7160-da60-49dd-d7c5-545939a6f6a7"
      },
      "outputs": [
        {
          "output_type": "stream",
          "name": "stdout",
          "text": [
            "Looking in indexes: https://pypi.org/simple, https://us-python.pkg.dev/colab-wheels/public/simple/\n",
            "Collecting flask-ngrok\n",
            "  Downloading flask_ngrok-0.0.25-py3-none-any.whl (3.1 kB)\n",
            "Requirement already satisfied: Flask>=0.8 in /usr/local/lib/python3.9/dist-packages (from flask-ngrok) (2.2.3)\n",
            "Requirement already satisfied: requests in /usr/local/lib/python3.9/dist-packages (from flask-ngrok) (2.27.1)\n",
            "Requirement already satisfied: Jinja2>=3.0 in /usr/local/lib/python3.9/dist-packages (from Flask>=0.8->flask-ngrok) (3.1.2)\n",
            "Requirement already satisfied: Werkzeug>=2.2.2 in /usr/local/lib/python3.9/dist-packages (from Flask>=0.8->flask-ngrok) (2.2.3)\n",
            "Requirement already satisfied: itsdangerous>=2.0 in /usr/local/lib/python3.9/dist-packages (from Flask>=0.8->flask-ngrok) (2.1.2)\n",
            "Requirement already satisfied: importlib-metadata>=3.6.0 in /usr/local/lib/python3.9/dist-packages (from Flask>=0.8->flask-ngrok) (6.4.1)\n",
            "Requirement already satisfied: click>=8.0 in /usr/local/lib/python3.9/dist-packages (from Flask>=0.8->flask-ngrok) (8.1.3)\n",
            "Requirement already satisfied: urllib3<1.27,>=1.21.1 in /usr/local/lib/python3.9/dist-packages (from requests->flask-ngrok) (1.26.15)\n",
            "Requirement already satisfied: idna<4,>=2.5 in /usr/local/lib/python3.9/dist-packages (from requests->flask-ngrok) (3.4)\n",
            "Requirement already satisfied: charset-normalizer~=2.0.0 in /usr/local/lib/python3.9/dist-packages (from requests->flask-ngrok) (2.0.12)\n",
            "Requirement already satisfied: certifi>=2017.4.17 in /usr/local/lib/python3.9/dist-packages (from requests->flask-ngrok) (2022.12.7)\n",
            "Requirement already satisfied: zipp>=0.5 in /usr/local/lib/python3.9/dist-packages (from importlib-metadata>=3.6.0->Flask>=0.8->flask-ngrok) (3.15.0)\n",
            "Requirement already satisfied: MarkupSafe>=2.0 in /usr/local/lib/python3.9/dist-packages (from Jinja2>=3.0->Flask>=0.8->flask-ngrok) (2.1.2)\n",
            "Installing collected packages: flask-ngrok\n",
            "Successfully installed flask-ngrok-0.0.25\n",
            "Looking in indexes: https://pypi.org/simple, https://us-python.pkg.dev/colab-wheels/public/simple/\n",
            "Collecting tensorboardX\n",
            "  Downloading tensorboardX-2.6-py2.py3-none-any.whl (114 kB)\n",
            "\u001b[2K     \u001b[90m━━━━━━━━━━━━━━━━━━━━━━━━━━━━━━━━━━━━━━━\u001b[0m \u001b[32m114.5/114.5 kB\u001b[0m \u001b[31m6.0 MB/s\u001b[0m eta \u001b[36m0:00:00\u001b[0m\n",
            "\u001b[?25hRequirement already satisfied: protobuf<4,>=3.8.0 in /usr/local/lib/python3.9/dist-packages (from tensorboardX) (3.20.3)\n",
            "Requirement already satisfied: numpy in /usr/local/lib/python3.9/dist-packages (from tensorboardX) (1.22.4)\n",
            "Requirement already satisfied: packaging in /usr/local/lib/python3.9/dist-packages (from tensorboardX) (23.1)\n",
            "Installing collected packages: tensorboardX\n",
            "Successfully installed tensorboardX-2.6\n",
            "Looking in indexes: https://pypi.org/simple, https://us-python.pkg.dev/colab-wheels/public/simple/\n",
            "Collecting ninja\n",
            "  Downloading ninja-1.11.1-py2.py3-none-manylinux_2_12_x86_64.manylinux2010_x86_64.whl (145 kB)\n",
            "\u001b[2K     \u001b[90m━━━━━━━━━━━━━━━━━━━━━━━━━━━━━━━━━━━━━━━\u001b[0m \u001b[32m146.0/146.0 kB\u001b[0m \u001b[31m9.3 MB/s\u001b[0m eta \u001b[36m0:00:00\u001b[0m\n",
            "\u001b[?25hInstalling collected packages: ninja\n",
            "Successfully installed ninja-1.11.1\n"
          ]
        }
      ],
      "source": [
        "!pip install flask-ngrok\n",
        "!pip install tensorboardX\n",
        "!pip install ninja"
      ]
    },
    {
      "cell_type": "code",
      "execution_count": null,
      "metadata": {
        "colab": {
          "base_uri": "https://localhost:8080/"
        },
        "id": "AwJdLzaLaCc3",
        "outputId": "0e173f70-4e0b-4fb4-a341-f64f94a2d1d3"
      },
      "outputs": [
        {
          "output_type": "stream",
          "name": "stdout",
          "text": [
            "/drive/ngrok-ssh\n",
            "--2023-04-21 10:30:41--  https://bin.equinox.io/c/4VmDzA7iaHb/ngrok-stable-linux-amd64.zip\n",
            "Resolving bin.equinox.io (bin.equinox.io)... 54.161.241.46, 54.237.133.81, 18.205.222.128, ...\n",
            "Connecting to bin.equinox.io (bin.equinox.io)|54.161.241.46|:443... connected.\n",
            "HTTP request sent, awaiting response... 200 OK\n",
            "Length: 13921656 (13M) [application/octet-stream]\n",
            "Saving to: ‘ngrok-stable-linux-amd64.zip’\n",
            "\n",
            "ngrok-stable-linux- 100%[===================>]  13.28M  11.7MB/s    in 1.1s    \n",
            "\n",
            "2023-04-21 10:30:43 (11.7 MB/s) - ‘ngrok-stable-linux-amd64.zip’ saved [13921656/13921656]\n",
            "\n",
            "Archive:  ngrok-stable-linux-amd64.zip\n",
            "  inflating: ngrok                   \n",
            "Authtoken saved to configuration file: /root/.ngrok2/ngrok.yml\n",
            "/content/drive/MyDrive/Major_Project/ACGPN\n",
            "/content/drive/MyDrive/Major_Project/ACGPN\n"
          ]
        }
      ],
      "source": [
        "!mkdir -p /drive/ngrok-ssh\n",
        "%cd /drive/ngrok-ssh\n",
        "!wget https://bin.equinox.io/c/4VmDzA7iaHb/ngrok-stable-linux-amd64.zip -O ngrok-stable-linux-amd64.zip\n",
        "!unzip -u ngrok-stable-linux-amd64.zip\n",
        "!cp /drive/ngrok-ssh/ngrok /ngrok\n",
        "!chmod +x /ngrok\n",
        "!/ngrok authtoken 2NSRaz4iCf31dh3t716gRVyTl5Q_7G7Ak3fAYb15Stc3jHQty\n",
        "%cd /content/drive/MyDrive/Major_Project/ACGPN\n",
        "!pwd"
      ]
    },
    {
      "cell_type": "markdown",
      "metadata": {
        "id": "P_qHJ6_GwyWb"
      },
      "source": [
        "# **Website**"
      ]
    },
    {
      "cell_type": "code",
      "execution_count": null,
      "metadata": {
        "colab": {
          "base_uri": "https://localhost:8080/"
        },
        "id": "FZ94MmAxex0W",
        "outputId": "fc4e5a5d-a831-48f8-c2ad-076869e30059"
      },
      "outputs": [
        {
          "output_type": "stream",
          "name": "stdout",
          "text": [
            " * Serving Flask app 'app'\n",
            " * Debug mode: on\n",
            "\u001b[31m\u001b[1mWARNING: This is a development server. Do not use it in a production deployment. Use a production WSGI server instead.\u001b[0m\n",
            " * Running on http://127.0.0.1:5000\n",
            "\u001b[33mPress CTRL+C to quit\u001b[0m\n",
            " * Restarting with stat\n",
            " * Debugger is active!\n",
            " * Debugger PIN: 377-792-572\n",
            " * Running on http://b7d9-34-91-19-43.ngrok-free.app\n",
            " * Traffic stats available on http://127.0.0.1:4040\n",
            "Exception in thread Thread-1:\n",
            "Traceback (most recent call last):\n",
            "  File \"/usr/lib/python3.9/threading.py\", line 980, in _bootstrap_inner\n",
            "    self.run()\n",
            "  File \"/usr/lib/python3.9/threading.py\", line 1306, in run\n",
            "    self.function(*self.args, **self.kwargs)\n",
            "  File \"/usr/local/lib/python3.9/dist-packages/flask_ngrok.py\", line 70, in start_ngrok\n",
            "    ngrok_address = _run_ngrok()\n",
            "  File \"/usr/local/lib/python3.9/dist-packages/flask_ngrok.py\", line 18, in _run_ngrok\n",
            "    _download_ngrok(ngrok_path)\n",
            "  File \"/usr/local/lib/python3.9/dist-packages/flask_ngrok.py\", line 57, in _download_ngrok\n",
            "    zip_ref.extractall(ngrok_path)\n",
            "  File \"/usr/lib/python3.9/zipfile.py\", line 1642, in extractall\n",
            "    self._extract_member(zipinfo, path, pwd)\n",
            "  File \"/usr/lib/python3.9/zipfile.py\", line 1696, in _extract_member\n",
            "    open(targetpath, \"wb\") as target:\n",
            "OSError: [Errno 26] Text file busy: '/tmp/ngrok/ngrok'\n",
            "127.0.0.1 - - [21/Apr/2023 10:31:32] \"GET / HTTP/1.1\" 200 -\n",
            "127.0.0.1 - - [21/Apr/2023 10:31:33] \"\u001b[33mGET /static/vendor/bootstrap-icons/bootstrap-icons.cssvendor/boxicons/css/boxicons.min.css HTTP/1.1\u001b[0m\" 404 -\n",
            "127.0.0.1 - - [21/Apr/2023 10:31:33] \"\u001b[33mGET /static/vendor/php-email-form/validate.js HTTP/1.1\u001b[0m\" 404 -\n",
            "127.0.0.1 - - [21/Apr/2023 10:31:33] \"\u001b[33mGET /static/images/twitter_logo.png HTTP/1.1\u001b[0m\" 404 -\n",
            "127.0.0.1 - - [21/Apr/2023 10:31:33] \"\u001b[33mGET /static/images/linkedin_logo.png HTTP/1.1\u001b[0m\" 404 -\n",
            "127.0.0.1 - - [21/Apr/2023 10:31:33] \"\u001b[33mGET /static/images/instagram_logo.png HTTP/1.1\u001b[0m\" 404 -\n",
            "127.0.0.1 - - [21/Apr/2023 10:31:33] \"\u001b[33mGET /static/images/whatsapp_logo.png HTTP/1.1\u001b[0m\" 404 -\n",
            "127.0.0.1 - - [21/Apr/2023 10:31:33] \"\u001b[33mGET /static/images/facebook_logo.png HTTP/1.1\u001b[0m\" 404 -\n",
            "127.0.0.1 - - [21/Apr/2023 10:31:34] \"GET /static/css/style.css HTTP/1.1\" 200 -\n",
            "127.0.0.1 - - [21/Apr/2023 10:31:34] \"GET /static/vendor/aos/aos.css HTTP/1.1\" 200 -\n",
            "127.0.0.1 - - [21/Apr/2023 10:31:34] \"GET /static/images/hero-img.svg HTTP/1.1\" 200 -\n",
            "127.0.0.1 - - [21/Apr/2023 10:31:34] \"GET /static/vendor/glightbox/css/glightbox.min.css HTTP/1.1\" 200 -\n",
            "127.0.0.1 - - [21/Apr/2023 10:31:34] \"GET /static/images/team/team-3.png HTTP/1.1\" 200 -\n",
            "127.0.0.1 - - [21/Apr/2023 10:31:34] \"GET /static/images/team/team-2.jpg HTTP/1.1\" 200 -\n",
            "127.0.0.1 - - [21/Apr/2023 10:31:34] \"GET /static/images/team/team-4.jpg HTTP/1.1\" 200 -\n",
            "127.0.0.1 - - [21/Apr/2023 10:31:34] \"GET /static/vendor/swiper/swiper-bundle.min.css HTTP/1.1\" 200 -\n",
            "127.0.0.1 - - [21/Apr/2023 10:31:34] \"\u001b[33mGET /static/vendor/php-email-form/validate.js HTTP/1.1\u001b[0m\" 404 -\n",
            "127.0.0.1 - - [21/Apr/2023 10:31:34] \"GET /static/vendor/swiper/swiper-bundle.min.js HTTP/1.1\" 200 -\n",
            "127.0.0.1 - - [21/Apr/2023 10:31:34] \"GET /static/vendor/bootstrap-icons/bootstrap-icons.css HTTP/1.1\" 200 -\n",
            "127.0.0.1 - - [21/Apr/2023 10:31:34] \"GET /static/js/main.js HTTP/1.1\" 200 -\n",
            "127.0.0.1 - - [21/Apr/2023 10:31:34] \"GET /static/vendor/aos/aos.js HTTP/1.1\" 200 -\n",
            "127.0.0.1 - - [21/Apr/2023 10:31:34] \"GET /static/images/about-img.svg HTTP/1.1\" 200 -\n",
            "127.0.0.1 - - [21/Apr/2023 10:31:34] \"GET /static/vendor/isotope-layout/isotope.pkgd.min.js HTTP/1.1\" 200 -\n",
            "127.0.0.1 - - [21/Apr/2023 10:31:34] \"GET /static/vendor/bootstrap/css/bootstrap.min.css HTTP/1.1\" 200 -\n",
            "127.0.0.1 - - [21/Apr/2023 10:31:34] \"GET /static/vendor/glightbox/js/glightbox.min.js HTTP/1.1\" 200 -\n",
            "127.0.0.1 - - [21/Apr/2023 10:31:34] \"GET /static/images/team/team-1.png HTTP/1.1\" 200 -\n",
            "127.0.0.1 - - [21/Apr/2023 10:31:34] \"GET /static/vendor/bootstrap/js/bootstrap.bundle.min.js HTTP/1.1\" 200 -\n",
            "127.0.0.1 - - [21/Apr/2023 10:31:35] \"GET /static/js/main.js HTTP/1.1\" 200 -\n",
            "127.0.0.1 - - [21/Apr/2023 10:31:38] \"GET /static/vendor/swiper/swiper-bundle.min.js HTTP/1.1\" 200 -\n",
            "127.0.0.1 - - [21/Apr/2023 10:31:39] \"GET /static/vendor/isotope-layout/isotope.pkgd.min.js HTTP/1.1\" 200 -\n",
            "127.0.0.1 - - [21/Apr/2023 10:31:39] \"GET /static/vendor/aos/aos.js HTTP/1.1\" 200 -\n",
            "127.0.0.1 - - [21/Apr/2023 10:31:41] \"GET /static/vendor/glightbox/js/glightbox.min.js HTTP/1.1\" 200 -\n",
            "127.0.0.1 - - [21/Apr/2023 10:31:42] \"GET /static/vendor/bootstrap/js/bootstrap.bundle.min.js HTTP/1.1\" 200 -\n",
            "127.0.0.1 - - [21/Apr/2023 10:31:42] \"\u001b[33mGET /static/vendor/php-email-form/validate.js HTTP/1.1\u001b[0m\" 404 -\n",
            "127.0.0.1 - - [21/Apr/2023 10:31:44] \"GET /static/vendor/bootstrap-icons/fonts/bootstrap-icons.woff2?24e3eb84d0bcaf83d77f904c78ac1f47 HTTP/1.1\" 200 -\n",
            "127.0.0.1 - - [21/Apr/2023 10:31:44] \"\u001b[33mGET /static/vendor/php-email-form/validate.js HTTP/1.1\u001b[0m\" 404 -\n",
            "127.0.0.1 - - [21/Apr/2023 10:31:45] \"GET /static/images/apple-touch-icon.png HTTP/1.1\" 200 -\n",
            "127.0.0.1 - - [21/Apr/2023 10:31:46] \"GET /static/images/favicon.png HTTP/1.1\" 200 -\n",
            "127.0.0.1 - - [21/Apr/2023 10:43:23] \"GET /women HTTP/1.1\" 200 -\n",
            "127.0.0.1 - - [21/Apr/2023 10:43:24] \"\u001b[36mGET /static/css/style.css HTTP/1.1\u001b[0m\" 304 -\n",
            "127.0.0.1 - - [21/Apr/2023 10:43:24] \"\u001b[36mGET /static/vendor/aos/aos.css HTTP/1.1\u001b[0m\" 304 -\n",
            "127.0.0.1 - - [21/Apr/2023 10:43:24] \"\u001b[33mGET /static/vendor/bootstrap-icons/bootstrap-icons.cssvendor/boxicons/css/boxicons.min.css HTTP/1.1\u001b[0m\" 404 -\n",
            "127.0.0.1 - - [21/Apr/2023 10:43:24] \"\u001b[36mGET /static/vendor/bootstrap/js/bootstrap.bundle.min.js HTTP/1.1\u001b[0m\" 304 -\n",
            "127.0.0.1 - - [21/Apr/2023 10:43:24] \"\u001b[36mGET /static/vendor/swiper/swiper-bundle.min.js HTTP/1.1\u001b[0m\" 304 -\n",
            "127.0.0.1 - - [21/Apr/2023 10:43:24] \"\u001b[36mGET /static/vendor/isotope-layout/isotope.pkgd.min.js HTTP/1.1\u001b[0m\" 304 -\n",
            "127.0.0.1 - - [21/Apr/2023 10:43:24] \"\u001b[33mGET /static/js/jquery.js HTTP/1.1\u001b[0m\" 404 -\n",
            "127.0.0.1 - - [21/Apr/2023 10:43:24] \"\u001b[36mGET /static/vendor/bootstrap/css/bootstrap.min.css HTTP/1.1\u001b[0m\" 304 -\n",
            "127.0.0.1 - - [21/Apr/2023 10:43:24] \"\u001b[33mGET /static/js/nicepage.js HTTP/1.1\u001b[0m\" 404 -\n",
            "127.0.0.1 - - [21/Apr/2023 10:43:24] \"\u001b[36mGET /static/vendor/bootstrap-icons/bootstrap-icons.css HTTP/1.1\u001b[0m\" 304 -\n",
            "127.0.0.1 - - [21/Apr/2023 10:43:24] \"\u001b[36mGET /static/vendor/aos/aos.js HTTP/1.1\u001b[0m\" 304 -\n",
            "127.0.0.1 - - [21/Apr/2023 10:43:24] \"\u001b[36mGET /static/vendor/glightbox/css/glightbox.min.css HTTP/1.1\u001b[0m\" 304 -\n",
            "127.0.0.1 - - [21/Apr/2023 10:43:24] \"\u001b[36mGET /static/vendor/swiper/swiper-bundle.min.css HTTP/1.1\u001b[0m\" 304 -\n",
            "127.0.0.1 - - [21/Apr/2023 10:43:24] \"\u001b[33mGET /static/vendor/php-email-form/validate.js HTTP/1.1\u001b[0m\" 404 -\n",
            "127.0.0.1 - - [21/Apr/2023 10:43:24] \"\u001b[36mGET /static/js/main.js HTTP/1.1\u001b[0m\" 304 -\n",
            "127.0.0.1 - - [21/Apr/2023 10:43:24] \"\u001b[36mGET /static/vendor/glightbox/js/glightbox.min.js HTTP/1.1\u001b[0m\" 304 -\n",
            "127.0.0.1 - - [21/Apr/2023 10:43:25] \"GET /static/css/women.css HTTP/1.1\" 200 -\n",
            "127.0.0.1 - - [21/Apr/2023 10:43:25] \"GET /static/images/model.jpg HTTP/1.1\" 200 -\n",
            "127.0.0.1 - - [21/Apr/2023 10:43:25] \"GET /static/css/nicepage.css HTTP/1.1\" 200 -\n",
            "127.0.0.1 - - [21/Apr/2023 10:43:25] \"\u001b[33mGET /static/js/jquery.js HTTP/1.1\u001b[0m\" 404 -\n",
            "127.0.0.1 - - [21/Apr/2023 10:43:25] \"\u001b[33mGET /static/vendor/php-email-form/validate.js HTTP/1.1\u001b[0m\" 404 -\n",
            "127.0.0.1 - - [21/Apr/2023 10:43:25] \"\u001b[36mGET /static/vendor/swiper/swiper-bundle.min.js HTTP/1.1\u001b[0m\" 304 -\n",
            "127.0.0.1 - - [21/Apr/2023 10:43:25] \"\u001b[36mGET /static/js/main.js HTTP/1.1\u001b[0m\" 304 -\n",
            "127.0.0.1 - - [21/Apr/2023 10:43:25] \"\u001b[36mGET /static/vendor/glightbox/js/glightbox.min.js HTTP/1.1\u001b[0m\" 304 -\n",
            "127.0.0.1 - - [21/Apr/2023 10:43:25] \"\u001b[33mGET /static/js/nicepage.js HTTP/1.1\u001b[0m\" 404 -\n",
            "127.0.0.1 - - [21/Apr/2023 10:43:25] \"GET /static/vendor/isotope-layout/isotope.pkgd.min.js HTTP/1.1\" 200 -\n",
            "127.0.0.1 - - [21/Apr/2023 10:43:25] \"\u001b[36mGET /static/vendor/bootstrap/js/bootstrap.bundle.min.js HTTP/1.1\u001b[0m\" 304 -\n",
            "127.0.0.1 - - [21/Apr/2023 10:43:25] \"\u001b[36mGET /static/vendor/aos/aos.js HTTP/1.1\u001b[0m\" 304 -\n",
            "127.0.0.1 - - [21/Apr/2023 10:43:31] \"\u001b[33mGET /static/vendor/php-email-form/validate.js HTTP/1.1\u001b[0m\" 404 -\n",
            "127.0.0.1 - - [21/Apr/2023 10:43:32] \"GET /static/images/women_apparel_bg.jpeg HTTP/1.1\" 200 -\n",
            "127.0.0.1 - - [21/Apr/2023 10:43:32] \"\u001b[33mGET /static/vendor/php-email-form/validate.js HTTP/1.1\u001b[0m\" 404 -\n",
            "127.0.0.1 - - [21/Apr/2023 10:43:38] \"GET /guidelines HTTP/1.1\" 200 -\n",
            "127.0.0.1 - - [21/Apr/2023 10:43:39] \"\u001b[36mGET /static/vendor/bootstrap-icons/bootstrap-icons.css HTTP/1.1\u001b[0m\" 304 -\n",
            "127.0.0.1 - - [21/Apr/2023 10:43:39] \"\u001b[33mGET /static/vendor/php-email-form/validate.js HTTP/1.1\u001b[0m\" 404 -\n",
            "127.0.0.1 - - [21/Apr/2023 10:43:39] \"\u001b[33mGET /static/vendor/bootstrap-icons/bootstrap-icons.cssvendor/boxicons/css/boxicons.min.css HTTP/1.1\u001b[0m\" 404 -\n",
            "127.0.0.1 - - [21/Apr/2023 10:43:39] \"\u001b[36mGET /static/vendor/bootstrap/css/bootstrap.min.css HTTP/1.1\u001b[0m\" 304 -\n",
            "127.0.0.1 - - [21/Apr/2023 10:43:39] \"\u001b[36mGET /static/vendor/aos/aos.css HTTP/1.1\u001b[0m\" 304 -\n",
            "127.0.0.1 - - [21/Apr/2023 10:43:39] \"\u001b[36mGET /static/css/style.css HTTP/1.1\u001b[0m\" 304 -\n",
            "127.0.0.1 - - [21/Apr/2023 10:43:39] \"\u001b[36mGET /static/vendor/glightbox/css/glightbox.min.css HTTP/1.1\u001b[0m\" 304 -\n",
            "127.0.0.1 - - [21/Apr/2023 10:43:39] \"\u001b[36mGET /static/vendor/bootstrap/js/bootstrap.bundle.min.js HTTP/1.1\u001b[0m\" 304 -\n",
            "127.0.0.1 - - [21/Apr/2023 10:43:39] \"\u001b[36mGET /static/vendor/aos/aos.js HTTP/1.1\u001b[0m\" 304 -\n",
            "127.0.0.1 - - [21/Apr/2023 10:43:39] \"\u001b[36mGET /static/vendor/glightbox/js/glightbox.min.js HTTP/1.1\u001b[0m\" 304 -\n",
            "127.0.0.1 - - [21/Apr/2023 10:43:39] \"\u001b[36mGET /static/vendor/swiper/swiper-bundle.min.js HTTP/1.1\u001b[0m\" 304 -\n",
            "127.0.0.1 - - [21/Apr/2023 10:43:39] \"\u001b[36mGET /static/vendor/isotope-layout/isotope.pkgd.min.js HTTP/1.1\u001b[0m\" 304 -\n",
            "127.0.0.1 - - [21/Apr/2023 10:43:39] \"\u001b[36mGET /static/js/main.js HTTP/1.1\u001b[0m\" 304 -\n",
            "127.0.0.1 - - [21/Apr/2023 10:43:39] \"\u001b[36mGET /static/vendor/swiper/swiper-bundle.min.css HTTP/1.1\u001b[0m\" 304 -\n",
            "127.0.0.1 - - [21/Apr/2023 10:43:40] \"GET /static/images/guidelines/desired_cloth.png HTTP/1.1\" 200 -\n",
            "127.0.0.1 - - [21/Apr/2023 10:43:40] \"GET /static/images/guidelines/user_img.png HTTP/1.1\" 200 -\n",
            "127.0.0.1 - - [21/Apr/2023 10:43:40] \"GET /static/images/guidelines/submit_img.png HTTP/1.1\" 200 -\n",
            "127.0.0.1 - - [21/Apr/2023 10:43:40] \"\u001b[33mGET /static/vendor/php-email-form/validate.js HTTP/1.1\u001b[0m\" 404 -\n",
            "127.0.0.1 - - [21/Apr/2023 10:43:40] \"\u001b[33mGET /static/vendor/php-email-form/validate.js HTTP/1.1\u001b[0m\" 404 -\n",
            "127.0.0.1 - - [21/Apr/2023 10:43:40] \"\u001b[36mGET /static/vendor/aos/aos.js HTTP/1.1\u001b[0m\" 304 -\n",
            "127.0.0.1 - - [21/Apr/2023 10:43:40] \"\u001b[36mGET /static/vendor/swiper/swiper-bundle.min.js HTTP/1.1\u001b[0m\" 304 -\n",
            "127.0.0.1 - - [21/Apr/2023 10:43:40] \"\u001b[36mGET /static/vendor/bootstrap/js/bootstrap.bundle.min.js HTTP/1.1\u001b[0m\" 304 -\n",
            "127.0.0.1 - - [21/Apr/2023 10:44:05] \"GET /women HTTP/1.1\" 200 -\n",
            "127.0.0.1 - - [21/Apr/2023 10:44:06] \"GET /static/css/women.css HTTP/1.1\" 200 -\n",
            "127.0.0.1 - - [21/Apr/2023 10:44:06] \"GET /static/css/style.css HTTP/1.1\" 200 -\n",
            "127.0.0.1 - - [21/Apr/2023 10:44:06] \"\u001b[36mGET /static/css/nicepage.css HTTP/1.1\u001b[0m\" 304 -\n",
            "127.0.0.1 - - [21/Apr/2023 10:44:06] \"GET /static/vendor/bootstrap-icons/bootstrap-icons.css HTTP/1.1\" 200 -\n",
            "127.0.0.1 - - [21/Apr/2023 10:44:06] \"\u001b[33mGET /static/vendor/bootstrap-icons/bootstrap-icons.cssvendor/boxicons/css/boxicons.min.css HTTP/1.1\u001b[0m\" 404 -\n",
            "127.0.0.1 - - [21/Apr/2023 10:44:06] \"GET /static/vendor/aos/aos.css HTTP/1.1\" 200 -\n",
            "127.0.0.1 - - [21/Apr/2023 10:44:06] \"GET /static/vendor/bootstrap/css/bootstrap.min.css HTTP/1.1\" 200 -\n",
            "127.0.0.1 - - [21/Apr/2023 10:44:06] \"\u001b[36mGET /static/vendor/swiper/swiper-bundle.min.css HTTP/1.1\u001b[0m\" 304 -\n",
            "127.0.0.1 - - [21/Apr/2023 10:44:06] \"\u001b[33mGET /static/js/nicepage.js HTTP/1.1\u001b[0m\" 404 -\n",
            "127.0.0.1 - - [21/Apr/2023 10:44:06] \"\u001b[36mGET /static/images/model.jpg HTTP/1.1\u001b[0m\" 304 -\n",
            "127.0.0.1 - - [21/Apr/2023 10:44:06] \"\u001b[33mGET /static/js/jquery.js HTTP/1.1\u001b[0m\" 404 -\n",
            "127.0.0.1 - - [21/Apr/2023 10:44:06] \"\u001b[36mGET /static/vendor/glightbox/css/glightbox.min.css HTTP/1.1\u001b[0m\" 304 -\n",
            "127.0.0.1 - - [21/Apr/2023 10:44:06] \"\u001b[36mGET /static/vendor/aos/aos.js HTTP/1.1\u001b[0m\" 304 -\n",
            "127.0.0.1 - - [21/Apr/2023 10:44:06] \"\u001b[33mGET /static/vendor/php-email-form/validate.js HTTP/1.1\u001b[0m\" 404 -\n",
            "127.0.0.1 - - [21/Apr/2023 10:44:06] \"\u001b[36mGET /static/vendor/bootstrap/js/bootstrap.bundle.min.js HTTP/1.1\u001b[0m\" 304 -\n",
            "127.0.0.1 - - [21/Apr/2023 10:44:06] \"\u001b[36mGET /static/vendor/glightbox/js/glightbox.min.js HTTP/1.1\u001b[0m\" 304 -\n",
            "127.0.0.1 - - [21/Apr/2023 10:44:06] \"\u001b[36mGET /static/vendor/swiper/swiper-bundle.min.js HTTP/1.1\u001b[0m\" 304 -\n",
            "127.0.0.1 - - [21/Apr/2023 10:44:06] \"\u001b[36mGET /static/vendor/isotope-layout/isotope.pkgd.min.js HTTP/1.1\u001b[0m\" 304 -\n",
            "127.0.0.1 - - [21/Apr/2023 10:44:06] \"\u001b[36mGET /static/js/main.js HTTP/1.1\u001b[0m\" 304 -\n",
            "127.0.0.1 - - [21/Apr/2023 10:44:09] \"\u001b[36mGET /static/images/women_apparel_bg.jpeg HTTP/1.1\u001b[0m\" 304 -\n",
            "127.0.0.1 - - [21/Apr/2023 10:44:09] \"\u001b[33mGET /static/vendor/php-email-form/validate.js HTTP/1.1\u001b[0m\" 404 -\n",
            "/content/drive/MyDrive/Major_Project/ACGPN\n",
            "---------------Executed- success------\n",
            "/content/drive/MyDrive/Major_Project/ACGPN\n",
            "...load U2NEP---4.7 MB\n",
            "Generating mask for: 000001_1.png\n",
            "Saving output at Data_preprocessing/test_edge/000001_1.png\n",
            "Resized image in 0.014313459396362305s\n",
            "100% 1/1 [00:00<00:00,  1.94it/s]\n",
            "Parsing generated in 106.22979307174683s\n",
            "[ WARN:0@965.238] global net_impl.cpp:149 setUpNet DNN: OpenCL target is not supported with current OpenCL device (tested with GPUs only), switching to CPU.\n",
            "File saved at Data_preprocessing/test_pose/000001_0_keypoints.json\n",
            "Pose map generated in 12.80966567993164s\n",
            "?\n",
            "------------ Options -------------\n",
            "aspect_ratio: 1.0\n",
            "batchSize: 1\n",
            "checkpoints_dir: ./checkpoints\n",
            "cluster_path: features_clustered_010.npy\n",
            "continue_train: False\n",
            "data_type: 32\n",
            "datapairs: test_pairs.txt\n",
            "dataroot: Data_preprocessing/\n",
            "display_winsize: 512\n",
            "engine: None\n",
            "export_onnx: None\n",
            "fineSize: 512\n",
            "gpu_ids: [0]\n",
            "how_many: 1000\n",
            "input_nc: 3\n",
            "isTrain: False\n",
            "label_nc: 20\n",
            "loadSize: 512\n",
            "max_dataset_size: inf\n",
            "model: pix2pixHD\n",
            "nThreads: 1\n",
            "n_blocks_global: 4\n",
            "n_blocks_local: 3\n",
            "n_downsample_global: 4\n",
            "n_local_enhancers: 1\n",
            "name: label2city\n",
            "netG: global\n",
            "ngf: 64\n",
            "niter_fix_global: 0\n",
            "no_flip: False\n",
            "norm: instance\n",
            "ntest: inf\n",
            "onnx: None\n",
            "output_nc: 3\n",
            "phase: test\n",
            "resize_or_crop: scale_width\n",
            "results_dir: ./results/\n",
            "serial_batches: True\n",
            "tf_log: False\n",
            "use_dropout: False\n",
            "use_encoded_image: False\n",
            "verbose: False\n",
            "which_epoch: latest\n",
            "-------------- End ----------------\n",
            "CustomDatasetDataLoader\n",
            "dataset [AlignedDataset] was created\n",
            "Data_preprocessing/test_label label\n",
            "Data_preprocessing/test_img img\n",
            "Data_preprocessing/test_edge edge\n",
            "Data_preprocessing/test_edge edge\n",
            "Data_preprocessing/test_mask mask\n",
            "Data_preprocessing/test_mask mask\n",
            "Data_preprocessing/test_colormask colormask\n",
            "Data_preprocessing/test_colormask colormask\n",
            "Data_preprocessing/test_color color\n",
            "Data_preprocessing/test_color color\n",
            "# Inference images = 1\n",
            "latest_net_U.pth\n",
            "latest_net_G1.pth\n",
            "latest_net_G2.pth\n",
            "latest_net_G.pth\n",
            "/usr/local/lib/python3.9/dist-packages/torch/nn/functional.py:4236: UserWarning: Default grid_sample and affine_grid behavior has changed to align_corners=False since 1.3.0. Please specify align_corners=True if the old behavior is desired. See the documentation of grid_sample for details.\n",
            "  warnings.warn(\n",
            "Saving 000001_0.png\n",
            "Test Executed\n",
            "Image Sent\n",
            "127.0.0.1 - - [21/Apr/2023 10:47:52] \"POST /result HTTP/1.1\" 200 -\n",
            "127.0.0.1 - - [21/Apr/2023 10:47:54] \"\u001b[36mGET /static/css/nicepage.css HTTP/1.1\u001b[0m\" 304 -\n",
            "127.0.0.1 - - [21/Apr/2023 10:47:54] \"GET /static/vendor/aos/aos.css HTTP/1.1\" 200 -\n",
            "127.0.0.1 - - [21/Apr/2023 10:47:54] \"\u001b[33mGET /static/vendor/php-email-form/validate.js HTTP/1.1\u001b[0m\" 404 -\n",
            "127.0.0.1 - - [21/Apr/2023 10:47:54] \"\u001b[36mGET /static/css/women.css HTTP/1.1\u001b[0m\" 304 -\n",
            "127.0.0.1 - - [21/Apr/2023 10:47:54] \"\u001b[33mGET /static/vendor/bootstrap-icons/bootstrap-icons.cssvendor/boxicons/css/boxicons.min.css HTTP/1.1\u001b[0m\" 404 -\n",
            "127.0.0.1 - - [21/Apr/2023 10:47:54] \"\u001b[36mGET /static/js/main.js HTTP/1.1\u001b[0m\" 304 -\n",
            "127.0.0.1 - - [21/Apr/2023 10:47:54] \"\u001b[36mGET /static/vendor/aos/aos.js HTTP/1.1\u001b[0m\" 304 -\n",
            "127.0.0.1 - - [21/Apr/2023 10:47:54] \"\u001b[36mGET /static/vendor/glightbox/css/glightbox.min.css HTTP/1.1\u001b[0m\" 304 -\n",
            "127.0.0.1 - - [21/Apr/2023 10:47:54] \"\u001b[33mGET /static/js/nicepage.js HTTP/1.1\u001b[0m\" 404 -\n",
            "127.0.0.1 - - [21/Apr/2023 10:47:54] \"\u001b[36mGET /static/vendor/glightbox/js/glightbox.min.js HTTP/1.1\u001b[0m\" 304 -\n",
            "127.0.0.1 - - [21/Apr/2023 10:47:54] \"\u001b[36mGET /static/vendor/isotope-layout/isotope.pkgd.min.js HTTP/1.1\u001b[0m\" 304 -\n",
            "127.0.0.1 - - [21/Apr/2023 10:47:54] \"\u001b[36mGET /static/vendor/bootstrap-icons/bootstrap-icons.css HTTP/1.1\u001b[0m\" 304 -\n",
            "127.0.0.1 - - [21/Apr/2023 10:47:54] \"GET /static/vendor/bootstrap/css/bootstrap.min.css HTTP/1.1\" 200 -\n",
            "127.0.0.1 - - [21/Apr/2023 10:47:54] \"\u001b[36mGET /static/vendor/swiper/swiper-bundle.min.css HTTP/1.1\u001b[0m\" 304 -\n",
            "127.0.0.1 - - [21/Apr/2023 10:47:54] \"\u001b[33mGET /static/js/jquery.js HTTP/1.1\u001b[0m\" 404 -\n",
            "127.0.0.1 - - [21/Apr/2023 10:47:54] \"\u001b[36mGET /static/css/style.css HTTP/1.1\u001b[0m\" 304 -\n",
            "127.0.0.1 - - [21/Apr/2023 10:47:54] \"\u001b[36mGET /static/vendor/bootstrap/js/bootstrap.bundle.min.js HTTP/1.1\u001b[0m\" 304 -\n",
            "127.0.0.1 - - [21/Apr/2023 10:47:54] \"\u001b[36mGET /static/vendor/swiper/swiper-bundle.min.js HTTP/1.1\u001b[0m\" 304 -\n",
            "127.0.0.1 - - [21/Apr/2023 10:47:57] \"\u001b[33mGET /static/vendor/php-email-form/validate.js HTTP/1.1\u001b[0m\" 404 -\n"
          ]
        }
      ],
      "source": [
        "!python app.py"
      ]
    },
    {
      "cell_type": "markdown",
      "metadata": {
        "id": "P6oIKyg6wXoV"
      },
      "source": [
        "# **Model Processing**"
      ]
    },
    {
      "cell_type": "markdown",
      "metadata": {
        "id": "P_t3tOWQfP2W"
      },
      "source": [
        "**Segmentation Labels**\n",
        "\n",
        "0 -> Background\n",
        "\n",
        "1 -> Hair\n",
        "\n",
        "4 -> Upclothes\n",
        "\n",
        "5 -> Left-shoe \n",
        "\n",
        "6 -> Right-shoe\n",
        "\n",
        "7 -> Noise\n",
        "\n",
        "8 -> Pants\n",
        "\n",
        "9 -> Left_leg\n",
        "\n",
        "10 -> Right_leg\n",
        "\n",
        "11 -> Left_arm\n",
        "\n",
        "12 -> Face\n",
        "\n",
        "13 -> Right_arm"
      ]
    },
    {
      "cell_type": "markdown",
      "metadata": {
        "id": "5ztdGw682w1K"
      },
      "source": [
        "# **Result Image**"
      ]
    },
    {
      "cell_type": "code",
      "source": [
        "import numpy as np\n",
        "from PIL import Image"
      ],
      "metadata": {
        "id": "0KGtT08OJdh1"
      },
      "execution_count": null,
      "outputs": []
    },
    {
      "cell_type": "code",
      "execution_count": null,
      "metadata": {
        "id": "nlF0cbAlrQyP"
      },
      "outputs": [],
      "source": [
        "output_grid = np.concatenate([np.array(Image.open('Data_preprocessing/test_img/000001_0.png')),\n",
        "                np.array(Image.open('Data_preprocessing/test_color/000001_1.png')),\n",
        "                np.array(Image.open('results/test/try-on/000001_0.png'))], axis=1)\n",
        "image_grid = Image.fromarray(output_grid)\n",
        "image_grid"
      ]
    },
    {
      "cell_type": "code",
      "source": [
        "result_grid = np.array(Image.open('results/test/try-on/000001_0.png'))\n",
        "result = Image.fromarray(result_grid)"
      ],
      "metadata": {
        "id": "t5pLlj5JJ032"
      },
      "execution_count": null,
      "outputs": []
    },
    {
      "cell_type": "code",
      "source": [
        "result"
      ],
      "metadata": {
        "id": "1DBS9olVKG5h"
      },
      "execution_count": null,
      "outputs": []
    },
    {
      "cell_type": "markdown",
      "metadata": {
        "id": "3GRFqSdl2uEm"
      },
      "source": [
        "# **Deleting all records**"
      ]
    },
    {
      "cell_type": "code",
      "execution_count": null,
      "metadata": {
        "id": "eL9tOl-NxXCH"
      },
      "outputs": [],
      "source": [
        "!rm -rf Data_preprocessing/test_color/*\n",
        "!rm -rf Data_preprocessing/test_colormask/*\n",
        "!rm -rf Data_preprocessing/test_edge/*\n",
        "!rm -rf Data_preprocessing/test_img/*\n",
        "!rm -rf Data_preprocessing/test_label/*\n",
        "!rm -rf Data_preprocessing/test_mask/*\n",
        "!rm -rf Data_preprocessing/test_pose/*\n",
        "!rm -rf inputs/cloth/*\n",
        "!rm -rf inputs/img/*\n",
        "!rm -rf results/test/try-on/*\n",
        "!rm -rf results/test/refined_cloth/*\n",
        "!rm -rf results/test/wraped_cloth/*"
      ]
    },
    {
      "cell_type": "code",
      "execution_count": null,
      "metadata": {
        "colab": {
          "base_uri": "https://localhost:8080/"
        },
        "id": "2-gF6xrPXEJ2",
        "outputId": "f820e5ca-089d-4c13-c800-a37dcd644522"
      },
      "outputs": [
        {
          "output_type": "execute_result",
          "data": {
            "text/plain": [
              "[]"
            ]
          },
          "metadata": {},
          "execution_count": 16
        }
      ],
      "source": [
        "import os\n",
        "sorted(os.listdir('inputs/cloth'))\n"
      ]
    },
    {
      "cell_type": "code",
      "execution_count": null,
      "metadata": {
        "id": "gxDLP88CwN5D",
        "colab": {
          "base_uri": "https://localhost:8080/"
        },
        "outputId": "33f58dc1-ba06-4067-bda4-f2f6fc374bb5"
      },
      "outputs": [
        {
          "output_type": "execute_result",
          "data": {
            "text/plain": [
              "[]"
            ]
          },
          "metadata": {},
          "execution_count": 17
        }
      ],
      "source": [
        "sorted(os.listdir('inputs/img'))"
      ]
    },
    {
      "cell_type": "code",
      "source": [
        "sorted(os.listdir('results/test/try-on'))"
      ],
      "metadata": {
        "id": "LZLXCmFbr6MN",
        "colab": {
          "base_uri": "https://localhost:8080/"
        },
        "outputId": "7f27721a-e515-47f7-e78b-9d83b4bfec43"
      },
      "execution_count": null,
      "outputs": [
        {
          "output_type": "execute_result",
          "data": {
            "text/plain": [
              "[]"
            ]
          },
          "metadata": {},
          "execution_count": 18
        }
      ]
    },
    {
      "cell_type": "code",
      "source": [],
      "metadata": {
        "id": "Qtdr4gspuXz6"
      },
      "execution_count": null,
      "outputs": []
    }
  ],
  "metadata": {
    "colab": {
      "provenance": [],
      "gpuType": "T4"
    },
    "gpuClass": "standard",
    "kernelspec": {
      "display_name": "Python 3",
      "name": "python3"
    },
    "language_info": {
      "name": "python"
    },
    "accelerator": "GPU"
  },
  "nbformat": 4,
  "nbformat_minor": 0
}